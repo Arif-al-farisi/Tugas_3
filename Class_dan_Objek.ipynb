{
  "nbformat": 4,
  "nbformat_minor": 0,
  "metadata": {
    "colab": {
      "provenance": [],
      "authorship_tag": "ABX9TyN7H9m1IHOSqo+S2J+4Z6IE",
      "include_colab_link": true
    },
    "kernelspec": {
      "name": "python3",
      "display_name": "Python 3"
    },
    "language_info": {
      "name": "python"
    }
  },
  "cells": [
    {
      "cell_type": "markdown",
      "metadata": {
        "id": "view-in-github",
        "colab_type": "text"
      },
      "source": [
        "<a href=\"https://colab.research.google.com/github/Arif-al-farisi/Tugas_3/blob/main/Class_dan_Objek.ipynb\" target=\"_parent\"><img src=\"https://colab.research.google.com/assets/colab-badge.svg\" alt=\"Open In Colab\"/></a>"
      ]
    },
    {
      "cell_type": "markdown",
      "source": [
        "class objek"
      ],
      "metadata": {
        "id": "eCKnGjTrqQRv"
      }
    },
    {
      "cell_type": "code",
      "source": [
        "class Person:\n",
        "    person = 'person'\n",
        "\n",
        "    def __init__(self, rambut, warna):\n",
        "        self.rambutant = rambut\n",
        "        self.warna = warna\n",
        "\n",
        "\n",
        "Budi = Person(\"ikal\", \"Hitam\")\n",
        "Micheal = Person(\"Lurus\", \"pirang\")\n",
        "\n",
        "\n",
        "print(\"Budi detail:\")\n",
        "print('Rambut :', Budi.rambutant)\n",
        "print(\"Warna Rambut :\", Budi.warna)\n",
        "\n",
        "print(\"\\n Micheal detail\")\n",
        "print(\"Rambut :\", Micheal.rambutant)\n",
        "print(\"Warna Rambut \", Micheal.warna)"
      ],
      "metadata": {
        "colab": {
          "base_uri": "https://localhost:8080/"
        },
        "id": "9Ms_Pqg-bW8x",
        "outputId": "777cac6e-4a09-457d-f69d-60a8b1c7d792"
      },
      "execution_count": 35,
      "outputs": [
        {
          "output_type": "stream",
          "name": "stdout",
          "text": [
            "Budi detail:\n",
            "Rambut : ikal\n",
            "Warna Rambut : Hitam\n",
            "\n",
            " Micheal detail\n",
            "Rambut : Lurus\n",
            "Warna Rambut  pirang\n"
          ]
        }
      ]
    }
  ]
}